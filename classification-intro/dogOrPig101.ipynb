{
 "cells": [
  {
   "cell_type": "code",
   "execution_count": null,
   "id": "9c4f0c13",
   "metadata": {},
   "outputs": [],
   "source": [
    "from sklearn.svm import LinearSVC\n",
    "model = LinearSVC()\n",
    "\n",
    "#Aqui estou definindo as informacoes que possuo, ou seja, meus dados a serem analisados\n",
    "#Estou quebrando em \"features\" do animal, para posterirmente identificar o tipo de animal,\n",
    "#se seria um porco ou um cachorro\n",
    "\n",
    "#Features do Animal (0 - Não, 1 - Sim)\n",
    "#1. Pelo longo?\n",
    "#2. Perna curta?\n",
    "#3. Faz AuAu?\n",
    "\n",
    "porco_1 = [0,1,0]\n",
    "porco_2 = [0,1,1]\n",
    "porco_3 = [1,1,0]\n",
    "cachorro_1 = [0,1,1]\n",
    "cachorro_2 = [1,0,1]\n",
    "cachorro_3 = [1,1,1]\n",
    "\n",
    "treino_x = [porco_1,porco_2,porco_3,cachorro_1,cachorro_2,cachorro_3]\n",
    "\n",
    "#Abaixo, defino a classe dos meus animais, ou seja, se seria porco ou cachorro\n",
    "#Isso sera utilizado para fazer meu treino supervisionado\n",
    "#Classe (1 = Porco / 0 = Cachorro)\n",
    "treino_y = [1,1,1,0,0,0]\n",
    "\n",
    "model.fit(treino_x, treino_y)"
   ]
  },
  {
   "cell_type": "code",
   "execution_count": null,
   "id": "745fbc9b",
   "metadata": {},
   "outputs": [],
   "source": [
    "#Agora irei criar \"animais misteriosos\" e identificalos somente por suas \"features\",\n",
    "#e incluir uma variavel para ser analisada e identificado que tipo de animal é\n",
    "animal_1 = [0,0,1]\n",
    "animal_2 = [1,1,0]\n",
    "animal_3 = [0,1,1]\n",
    "teste_x = [animal_1,animal_2,animal_3]\n",
    "#Abaixo, as informacoes reais, para comparar se o que foi previsto esta correto\n",
    "teste_y = [0,1,1]\n",
    "\n",
    "#Agora sera previsto/predizido que tipo de animal misterioso\n",
    "previsoes = model.predict(teste_x)\n"
   ]
  },
  {
   "cell_type": "code",
   "execution_count": null,
   "id": "9a6a91c2",
   "metadata": {},
   "outputs": [],
   "source": [
    "\n",
    "for i, previsao in enumerate(previsoes):\n",
    "    if previsao == 1:\n",
    "        animal = \"Porco\"\n",
    "    else:\n",
    "        animal = \"Cachorro\"\n",
    "    print(f\"O animal {i+1} foi identificado como {animal}\")\n",
    "\n",
    "taxa_acerto = (((previsoes == teste_y).sum()) / len(teste_x))*100\n",
    "print(\"Taxa de acerto: %.2f\" % taxa_acerto, \"%\")"
   ]
  },
  {
   "cell_type": "code",
   "execution_count": null,
   "id": "c0e45a9d",
   "metadata": {},
   "outputs": [],
   "source": [
    "from sklearn.metrics import accuracy_score\n",
    "\n",
    "taxa_acuracia = accuracy_score(teste_y,previsoes)*100\n",
    "print(\"Taxa de acuracia: %.0f\" % taxa_acuracia, \"%\")"
   ]
  },
  {
   "cell_type": "code",
   "execution_count": null,
   "id": "9ade9242",
   "metadata": {},
   "outputs": [],
   "source": []
  }
 ],
 "metadata": {
  "kernelspec": {
   "display_name": "Python 3",
   "language": "python",
   "name": "python3"
  },
  "language_info": {
   "codemirror_mode": {
    "name": "ipython",
    "version": 3
   },
   "file_extension": ".py",
   "mimetype": "text/x-python",
   "name": "python",
   "nbconvert_exporter": "python",
   "pygments_lexer": "ipython3",
   "version": "3.8.8"
  }
 },
 "nbformat": 4,
 "nbformat_minor": 5
}
